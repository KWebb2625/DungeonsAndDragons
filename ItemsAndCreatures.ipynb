{
  "nbformat": 4,
  "nbformat_minor": 0,
  "metadata": {
    "colab": {
      "name": "ItemsAndCreatures.ipynb",
      "provenance": [],
      "authorship_tag": "ABX9TyPMa7jnqA8WqkeNreSJjiJJ",
      "include_colab_link": true
    },
    "kernelspec": {
      "name": "python3",
      "display_name": "Python 3"
    }
  },
  "cells": [
    {
      "cell_type": "markdown",
      "metadata": {
        "id": "view-in-github",
        "colab_type": "text"
      },
      "source": [
        "<a href=\"https://colab.research.google.com/github/KWebb2625/DungeonsAndDragons/blob/master/ItemsAndCreatures.ipynb\" target=\"_parent\"><img src=\"https://colab.research.google.com/assets/colab-badge.svg\" alt=\"Open In Colab\"/></a>"
      ]
    },
    {
      "cell_type": "code",
      "metadata": {
        "id": "O5oVyT0Bciqb",
        "colab_type": "code",
        "colab": {}
      },
      "source": [
        "###########################\n",
        "# Creature and Item Stats #\n",
        "###########################\n",
        "\n",
        "\n",
        "class Creature(object):\n",
        "    def __init__(self, x, y, health, ac, speed, weapon, xp):\n",
        "        self.x = x\n",
        "        self.y = y\n",
        "        self.health = health\n",
        "        self.ac = ac\n",
        "        self.speed = speed\n",
        "        self.weapon = weapon\n",
        "        self.xp = xp\n",
        "\n",
        "\n",
        "class Weapon(object):\n",
        "    def __init__(self, damage_amt, damage_type, hand):\n",
        "        self.damage_amt = damage_amt\n",
        "        self.damage_type = damage_type\n",
        "        self.hand = hand\n",
        "\n",
        "\n",
        "###########\n",
        "# Weapons #\n",
        "###########\n",
        "\n",
        "long_sword = Weapon('1d8 + 2', 'slash', 1)\n",
        "short_sword = Weapon('1d6 + 2', 'pierce', 1)\n",
        "flail = Weapon('1d8 + 2', 'bludgeon', 1)\n",
        "bite_g = Weapon('1d6 + 2', 'pierce', 2)\n",
        "bite_i1 = Weapon('4d4', 'slash', 1)\n",
        "bite_i2 = Weapon('2d4', 'slash', 1)\n",
        "claws = Weapon('1d6 + 2', 'slash', 2)\n",
        "short_bow = Weapon('1d8 + 2', 'slash', 1)\n",
        "\n",
        "\n",
        "#############\n",
        "# Creatures #\n",
        "#############\n",
        "\n",
        "skeleton = Creature(0, 0, 13, 13, 30, short_bow, 50)\n",
        "insect_swarm = Creature(0, 0, 22, 12, 20, 'none', 100)\n",
        "statue = Creature(0, 0, 52, 15, 30, 'none', 450)\n",
        "twig_blight = Creature(0, 0, 4, 13, 20, 'none', 25)\n",
        "upgraded_skeleton = Creature(0, 0, 13, 14, 30, short_sword, 100)\n",
        "wight = Creature(0, 0, 45, 14, 30, long_sword, 700)\n",
        "shaman_wight = Creature(0, 0, 45, 20, 30, flail, 1200)\n",
        "\n",
        "\n",
        "\n",
        "\n"
      ],
      "execution_count": 0,
      "outputs": []
    }
  ]
}